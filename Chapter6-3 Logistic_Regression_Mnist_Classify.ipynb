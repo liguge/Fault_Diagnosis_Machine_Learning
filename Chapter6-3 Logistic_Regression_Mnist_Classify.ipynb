{
 "cells": [
  {
   "cell_type": "markdown",
   "id": "897b5bb0",
   "metadata": {},
   "source": [
    "# 数据集：Mnist\n",
    "- 训练集数量：60000\n",
    "- 测试集数量：10000\n",
    "- 10 类 0 - 9"
   ]
  },
  {
   "cell_type": "code",
   "execution_count": 1,
   "id": "71df6c30",
   "metadata": {},
   "outputs": [],
   "source": [
    "import numpy as np\n",
    "from tqdm import tqdm\n"
   ]
  },
  {
   "cell_type": "code",
   "execution_count": 2,
   "id": "fe83b205",
   "metadata": {},
   "outputs": [],
   "source": [
    "def load_data(fileName):\n",
    "    \"\"\"\n",
    "    加载数据集\n",
    "    \"\"\"\n",
    "    dataList = []\n",
    "    labelList = []\n",
    "    \n",
    "    fr = open(fileName, 'r')\n",
    "    \n",
    "    for line in tqdm(fr.readlines()):\n",
    "        current_Line = line.strip().split(',')\n",
    "        \n",
    "        # 0 -> 1 其余 -> 0 二分类\n",
    "        if int(current_Line[0]) == 0:\n",
    "            labelList.append(1)\n",
    "        else:\n",
    "            labelList.append(0)\n",
    "            \n",
    "        dataList.append([int(num) / 255 for num in current_Line[1 : ]])\n",
    "    \n",
    "    return dataList, labelList\n",
    "\n",
    "def predict(w, x):\n",
    "    \"\"\"\n",
    "    预测标签\n",
    "    \"\"\"\n",
    "    wx = np.dot(w, x)\n",
    "    P1 = np.exp(wx) / (1 + np.exp(wx))\n",
    "    if P1 >= 0.5:\n",
    "        return 1\n",
    "    return 0\n",
    "\n",
    "def logisticRegression(trainDataList, trainLabelList, max_iter = 100):\n",
    "    \"\"\"\n",
    "    二项逻辑斯蒂回归过程\n",
    "    \"\"\"\n",
    "    for i in range(len(trainDataList)):\n",
    "        trainDataList[i].append(1)\n",
    "        \n",
    "    trainDataList = np.array(trainDataList)\n",
    "    w = np.zeros(trainDataList.shape[1])\n",
    "    \n",
    "    # 学习率\n",
    "    learning_rate = 0.001\n",
    "    \n",
    "    # 梯度下降\n",
    "    for i in range(max_iter):\n",
    "        for j in range(trainDataList.shape[0]):\n",
    "            wx = np.dot(w, trainDataList[j])\n",
    "            yi = trainLabelList[j]\n",
    "            xi = trainDataList[j]\n",
    "            \n",
    "            # update weight\n",
    "            w += learning_rate * (xi * yi - (np.exp(wx) * xi) / (1 + np.exp(wx)))\n",
    "            \n",
    "    return w\n",
    "               "
   ]
  },
  {
   "cell_type": "code",
   "execution_count": 4,
   "id": "cc35bfd5",
   "metadata": {},
   "outputs": [
    {
     "name": "stderr",
     "output_type": "stream",
     "text": [
      "100%|███████████████████████████████████| 60000/60000 [00:09<00:00, 6074.26it/s]\n",
      "100%|███████████████████████████████████| 10000/10000 [00:02<00:00, 4297.44it/s]\n"
     ]
    }
   ],
   "source": [
    "trainData, trainLabel = load_data('./mnist/mnist_train.csv')\n",
    "testData, testLabel = load_data('./mnist/mnist_test.csv')"
   ]
  },
  {
   "cell_type": "code",
   "execution_count": 5,
   "id": "25153d04",
   "metadata": {},
   "outputs": [],
   "source": [
    "w = logisticRegression(trainData, trainLabel)"
   ]
  },
  {
   "cell_type": "code",
   "execution_count": 7,
   "id": "d6b9cf72",
   "metadata": {},
   "outputs": [
    {
     "name": "stdout",
     "output_type": "stream",
     "text": [
      "Accuracy:  0.9922\n"
     ]
    }
   ],
   "source": [
    "# test\n",
    "for i in range(len(testData)):\n",
    "    testData[i].append(1)\n",
    "    \n",
    "# 错误数统计\n",
    "error_count = 0\n",
    "\n",
    "for i in range(len(testData)):\n",
    "    y_predict = predict(w, testData[i])\n",
    "    if y_predict != testLabel[i]:\n",
    "        error_count += 1\n",
    "\n",
    "acc = 1 - error_count / len(testData)\n",
    "\n",
    "print(\"Accuracy: \", acc)"
   ]
  },
  {
   "cell_type": "code",
   "execution_count": null,
   "id": "bcb670ac",
   "metadata": {},
   "outputs": [],
   "source": []
  }
 ],
 "metadata": {
  "kernelspec": {
   "display_name": "Python 3 (ipykernel)",
   "language": "python",
   "name": "python3"
  },
  "language_info": {
   "codemirror_mode": {
    "name": "ipython",
    "version": 3
   },
   "file_extension": ".py",
   "mimetype": "text/x-python",
   "name": "python",
   "nbconvert_exporter": "python",
   "pygments_lexer": "ipython3",
   "version": "3.9.6"
  }
 },
 "nbformat": 4,
 "nbformat_minor": 5
}
