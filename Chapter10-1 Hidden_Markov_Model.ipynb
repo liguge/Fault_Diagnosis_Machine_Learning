{
 "cells": [
  {
   "cell_type": "markdown",
   "id": "d8c76edb",
   "metadata": {},
   "source": [
    "# 隐马尔可夫模型 HMM"
   ]
  },
  {
   "cell_type": "code",
   "execution_count": 1,
   "id": "3b83fcb6",
   "metadata": {},
   "outputs": [],
   "source": [
    "import numpy as np"
   ]
  },
  {
   "cell_type": "code",
   "execution_count": 2,
   "id": "2defcb99",
   "metadata": {},
   "outputs": [],
   "source": [
    "class HiddenMarkov:\n",
    "    def forward(self, Q, V, A, B, O, PI):\n",
    "        \"\"\"\n",
    "        前向算法\n",
    "        Q: 状态集合\n",
    "        V: 观测集合\n",
    "        A: 状态转移概率矩阵\n",
    "        B: 观测概率矩阵\n",
    "        O: 观测序列\n",
    "        PI: 初始概率分布\n",
    "        \"\"\"\n",
    "        \n",
    "        # 存在的状态数量\n",
    "        N = len(Q)  \n",
    "        # 观测序列长度\n",
    "        M = len(O)\n",
    "        \n",
    "        #\n",
    "        alphas = np.zeros((N, M))\n",
    "        \n",
    "        # 有几个时刻，有几个观测序列，\n",
    "        T = M\n",
    "        \n",
    "        # 遍历每一个时刻，计算alpha值\n",
    "        for t in range(T):\n",
    "            # 找出序列对应的索引\n",
    "            indexOfO = V.index(O[t])\n",
    "            for i in range(N):\n",
    "                # 初始值 10.15\n",
    "                if t == 0:\n",
    "                    alphas[i][t] = PI[t][i] * B[i][indexOfO]\n",
    "                    print(' alpha1(%d) = p%db%db(o1)=%f' % (i, i, i, alphas[i][t]))\n",
    "                else:\n",
    "                    # 10.16\n",
    "                    alphas[i][t] = np.dot([alpha[t-1] for alpha in alphas], [a[i] for a in A]) * B[i][indexOfO]\n",
    "                    print(' alpha%d(%d)=[sigma alpha%d(i)ai%d]b%d(o%d)=%f' % (t, i, t - 1, i, i, t, alphas[i][t]))\n",
    "        \n",
    "        P = np.sum([alpha[M - 1] for alpha in alphas])\n",
    "        \n",
    "        \n",
    "    def backword(self, Q, V, A, B, O, PI):\n",
    "        N = len(Q)\n",
    "        M = len(O)\n",
    "        betas = np.ones((N, M))\n",
    "        \n",
    "        for i in range(N):\n",
    "            print('beta%d(%d)=1' % (M, i))\n",
    "        \n",
    "        for t in range(M - 2, -1, -1):\n",
    "            indexOfO = V.index(O[t + 1])\n",
    "            for i in range(N):\n",
    "                betas[i][t] = np.dot(np.multiply(A[i], [b[indexOfO] for b in B]), [beta[t + 1] for beta in betas])\n",
    "                realT = t + 1\n",
    "                realI = i + 1\n",
    "                print('beta%d(%d)=[sigma a%djbj(o%d)beta%d(j)] = (' % (realT, realI, realI, realT + 1, realT + 2), end = ' ')\n",
    "                for j in range(N):\n",
    "                    print(\"%.2f*%.2f*%.2f + \" % (A[i][j], B[j][indexOfO], betas[j][t+1]), end=' ')\n",
    "                print(\"0)=%.3f\" % betas[i][t])\n",
    "                \n",
    "        \n",
    "        indexOfO = V.index(O[0])\n",
    "        P = np.dot(np.multiply(PI, [b[indexOfO] for b in B]), [beta[0] for beta in betas])\n",
    "        print(\"P(O|lambda)=\", end=\" \")\n",
    "        \n",
    "        for i in range(N):\n",
    "            print(\"%.1f*%.1f*%.5f+\" % (PI[0][i], B[i][indexOfO], betas[i][0]))\n",
    "        print(\"O=%f\" % P)\n",
    "        \n",
    "    def viterbi(self, Q, V, A, B, O, PI):\n",
    "        N = len(Q)\n",
    "        M = len(O)\n",
    "        deltas = np.zeros((N, M))\n",
    "        psis = np.zeros((N, M))\n",
    "        I = np.zeros((1, M))\n",
    "        \n",
    "        for t in range(M):\n",
    "            realT = t +1\n",
    "            indexOfO = V.index(O[t])\n",
    "            for i in range(N):\n",
    "                realI = i + 1\n",
    "                if t == 0:\n",
    "                    deltas[i][t] = PI[0][i] * B[i][indexOfO]\n",
    "                    psis[i][t] = 0\n",
    "                    print('delta1(%d)=pi%d * b%d(o1) = %.2f * %.2f = %.2f' % (realI, realI, realI, PI[0][i], B[i][indexOfO], deltas[i][t]))\n",
    "                    print('psis1(%d)=0' % (realI))\n",
    "                else:\n",
    "                    deltas[i][t] = np.max(np.multiply([delta[t-1] for delta in deltas], [a[i] for a in A])) * B[i][indexOfO]\n",
    "                    print(\"delta%d(%d)=max[delta%d(j)aj%d]b%d(o%d)=%.2f*%.2f=%.5f\" % (realT, realI, realT-1, realI, realI, realT, \n",
    "                                np.max(np.multiply([delta[t-1] for delta in deltas], [a[i] for a in A])), B[i][indexOfO], deltas[i][t]))\n",
    "                    psis[i][t] = np.argmax(np.multiply([delta[t-1] for delta in deltas], [a[i] for a in A])) + 1\n",
    "                    print('psis%d(%d)=argmax[delta%d(j)aj%d]=%d' % (realT, realI, realT - 1, realI, psis[i][t]))\n",
    "        \n",
    "        print(deltas)\n",
    "        print(psis)\n",
    "        I[0][M-1] = np.argmax([delta[M - 1] for delta in deltas]) + 1\n",
    "        print(\" i %d = argmax[deltaT(i)]=%d\" % (M, I[0][M-1]))\n",
    "        \n",
    "        for t in range(M - 2, -1, -1):\n",
    "            I[0][t] = psis[int(I[0][t + 1]) - 1][t + 1]\n",
    "            print(\"i%d=psis%d(i%d)=%d\" % (t + 1, t + 2, t+2, I[0][t]))\n",
    "        print(\"状态序列I: \", I)"
   ]
  },
  {
   "cell_type": "code",
   "execution_count": 3,
   "id": "86f54e98",
   "metadata": {},
   "outputs": [],
   "source": [
    "# eg. 10.1\n",
    "Q = [1, 2, 3]\n",
    "V = ['红', '白']\n",
    "A = [[0.5, 0.2, 0.3], [0.3, 0.5, 0.2], [0.2, 0.3, 0.5]]\n",
    "B = [[0.5, 0.5], [0.4, 0.6], [0.7, 0.3]]\n",
    "O = ['红', '白', '红', '白']\n",
    "PI = [[0.2, 0.4, 0.4]]\n"
   ]
  },
  {
   "cell_type": "code",
   "execution_count": 4,
   "id": "13386b89",
   "metadata": {},
   "outputs": [
    {
     "name": "stdout",
     "output_type": "stream",
     "text": [
      "beta4(0)=1\n",
      "beta4(1)=1\n",
      "beta4(2)=1\n",
      "beta3(1)=[sigma a1jbj(o4)beta5(j)] = ( 0.50*0.50*1.00 +  0.20*0.60*1.00 +  0.30*0.30*1.00 +  0)=0.460\n",
      "beta3(2)=[sigma a2jbj(o4)beta5(j)] = ( 0.30*0.50*1.00 +  0.50*0.60*1.00 +  0.20*0.30*1.00 +  0)=0.510\n",
      "beta3(3)=[sigma a3jbj(o4)beta5(j)] = ( 0.20*0.50*1.00 +  0.30*0.60*1.00 +  0.50*0.30*1.00 +  0)=0.430\n",
      "beta2(1)=[sigma a1jbj(o3)beta4(j)] = ( 0.50*0.50*0.46 +  0.20*0.40*0.51 +  0.30*0.70*0.43 +  0)=0.246\n",
      "beta2(2)=[sigma a2jbj(o3)beta4(j)] = ( 0.30*0.50*0.46 +  0.50*0.40*0.51 +  0.20*0.70*0.43 +  0)=0.231\n",
      "beta2(3)=[sigma a3jbj(o3)beta4(j)] = ( 0.20*0.50*0.46 +  0.30*0.40*0.51 +  0.50*0.70*0.43 +  0)=0.258\n",
      "beta1(1)=[sigma a1jbj(o2)beta3(j)] = ( 0.50*0.50*0.25 +  0.20*0.60*0.23 +  0.30*0.30*0.26 +  0)=0.112\n",
      "beta1(2)=[sigma a2jbj(o2)beta3(j)] = ( 0.30*0.50*0.25 +  0.50*0.60*0.23 +  0.20*0.30*0.26 +  0)=0.122\n",
      "beta1(3)=[sigma a3jbj(o2)beta3(j)] = ( 0.20*0.50*0.25 +  0.30*0.60*0.23 +  0.50*0.30*0.26 +  0)=0.105\n",
      "P(O|lambda)= 0.2*0.5*0.11246+\n",
      "0.4*0.4*0.12174+\n",
      "0.4*0.7*0.10488+\n",
      "O=0.060091\n"
     ]
    }
   ],
   "source": [
    "HMM = HiddenMarkov()\n",
    "HMM.backword(Q, V, A, B, O, PI)"
   ]
  },
  {
   "cell_type": "code",
   "execution_count": 5,
   "id": "ddd056d9",
   "metadata": {},
   "outputs": [
    {
     "name": "stdout",
     "output_type": "stream",
     "text": [
      " alpha1(0) = p0b0b(o1)=0.100000\n",
      " alpha1(1) = p1b1b(o1)=0.160000\n",
      " alpha1(2) = p2b2b(o1)=0.280000\n",
      " alpha1(0)=[sigma alpha0(i)ai0]b0(o1)=0.077000\n",
      " alpha1(1)=[sigma alpha0(i)ai1]b1(o1)=0.110400\n",
      " alpha1(2)=[sigma alpha0(i)ai2]b2(o1)=0.060600\n",
      " alpha2(0)=[sigma alpha1(i)ai0]b0(o2)=0.041870\n",
      " alpha2(1)=[sigma alpha1(i)ai1]b1(o2)=0.035512\n",
      " alpha2(2)=[sigma alpha1(i)ai2]b2(o2)=0.052836\n",
      " alpha3(0)=[sigma alpha2(i)ai0]b0(o3)=0.021078\n",
      " alpha3(1)=[sigma alpha2(i)ai1]b1(o3)=0.025188\n",
      " alpha3(2)=[sigma alpha2(i)ai2]b2(o3)=0.013824\n"
     ]
    }
   ],
   "source": [
    "HMM.forward(Q, V, A, B, O, PI)"
   ]
  },
  {
   "cell_type": "code",
   "execution_count": 6,
   "id": "ea146276",
   "metadata": {},
   "outputs": [
    {
     "name": "stdout",
     "output_type": "stream",
     "text": [
      "delta1(1)=pi1 * b1(o1) = 0.20 * 0.50 = 0.10\n",
      "psis1(1)=0\n",
      "delta1(2)=pi2 * b2(o1) = 0.40 * 0.40 = 0.16\n",
      "psis1(2)=0\n",
      "delta1(3)=pi3 * b3(o1) = 0.40 * 0.70 = 0.28\n",
      "psis1(3)=0\n",
      "delta2(1)=max[delta1(j)aj1]b1(o2)=0.06*0.50=0.02800\n",
      "psis2(1)=argmax[delta1(j)aj1]=3\n",
      "delta2(2)=max[delta1(j)aj2]b2(o2)=0.08*0.60=0.05040\n",
      "psis2(2)=argmax[delta1(j)aj2]=3\n",
      "delta2(3)=max[delta1(j)aj3]b3(o2)=0.14*0.30=0.04200\n",
      "psis2(3)=argmax[delta1(j)aj3]=3\n",
      "delta3(1)=max[delta2(j)aj1]b1(o3)=0.02*0.50=0.00756\n",
      "psis3(1)=argmax[delta2(j)aj1]=2\n",
      "delta3(2)=max[delta2(j)aj2]b2(o3)=0.03*0.40=0.01008\n",
      "psis3(2)=argmax[delta2(j)aj2]=2\n",
      "delta3(3)=max[delta2(j)aj3]b3(o3)=0.02*0.70=0.01470\n",
      "psis3(3)=argmax[delta2(j)aj3]=3\n",
      "delta4(1)=max[delta3(j)aj1]b1(o4)=0.00*0.50=0.00189\n",
      "psis4(1)=argmax[delta3(j)aj1]=1\n",
      "delta4(2)=max[delta3(j)aj2]b2(o4)=0.01*0.60=0.00302\n",
      "psis4(2)=argmax[delta3(j)aj2]=2\n",
      "delta4(3)=max[delta3(j)aj3]b3(o4)=0.01*0.30=0.00220\n",
      "psis4(3)=argmax[delta3(j)aj3]=3\n",
      "[[0.1      0.028    0.00756  0.00189 ]\n",
      " [0.16     0.0504   0.01008  0.003024]\n",
      " [0.28     0.042    0.0147   0.002205]]\n",
      "[[0. 3. 2. 1.]\n",
      " [0. 3. 2. 2.]\n",
      " [0. 3. 3. 3.]]\n",
      " i 4 = argmax[deltaT(i)]=2\n",
      "i3=psis4(i4)=2\n",
      "i2=psis3(i3)=2\n",
      "i1=psis2(i2)=3\n",
      "状态序列I:  [[3. 2. 2. 2.]]\n"
     ]
    }
   ],
   "source": [
    "HMM.viterbi(Q, V, A, B, O, PI)"
   ]
  },
  {
   "cell_type": "code",
   "execution_count": null,
   "id": "ebe4a9e9",
   "metadata": {},
   "outputs": [],
   "source": []
  }
 ],
 "metadata": {
  "kernelspec": {
   "display_name": "Python 3 (ipykernel)",
   "language": "python",
   "name": "python3"
  },
  "language_info": {
   "codemirror_mode": {
    "name": "ipython",
    "version": 3
   },
   "file_extension": ".py",
   "mimetype": "text/x-python",
   "name": "python",
   "nbconvert_exporter": "python",
   "pygments_lexer": "ipython3",
   "version": "3.9.6"
  }
 },
 "nbformat": 4,
 "nbformat_minor": 5
}
