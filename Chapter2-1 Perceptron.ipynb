{
 "cells": [
  {
   "cell_type": "markdown",
   "id": "9699d501",
   "metadata": {},
   "source": [
    "## 感知机 Perceptron\n",
    "\n",
    "### 条件：二分类、线性可分\n",
    "\n",
    "- 输入：训练数据集$T=[(x_1, y_1), ···, (x_N, y_N)]$，学习率$\\eta$\n",
    "- 1 任意超平面 $w_0, b_0$, 即$y = w_0*x + b_0$\n",
    "- 2 采用梯度下降法极小化目标函数\n",
    "-- loss：$L(w, b) = - \\sum y_i(w*x_i+b)$\n",
    "--  $$\\nabla_{w} L(w, b) = - \\sum y_i*x_i \\\\\n",
    "         \\nabla_{b} L(w, b) = -\\sum y_i$$\n",
    "- 3 更新w, b\n",
    "-- $$ w:= w + \\eta * y_i * x_i \\\\\n",
    "         b := b + \\eta * y_i\n",
    "$$\n",
    "\n"
   ]
  },
  {
   "cell_type": "markdown",
   "id": "796af8dc",
   "metadata": {},
   "source": [
    "# 例2.1 正实例点$x_1 = (3, 3)^T, x_2 = (4, 3)^T$, 负实例点$x_3 = (1, 1)^T$，试用感知机学习算法求感知机模型"
   ]
  },
  {
   "cell_type": "code",
   "execution_count": 1,
   "id": "8733b4be",
   "metadata": {},
   "outputs": [],
   "source": [
    "import numpy as np\n",
    "import matplotlib.pyplot as plt"
   ]
  },
  {
   "cell_type": "code",
   "execution_count": 5,
   "id": "95dfb561",
   "metadata": {},
   "outputs": [],
   "source": [
    "class MyPerceptron:\n",
    "    def __init__(self):\n",
    "        self.w = None\n",
    "        self.b = 0\n",
    "        self.l_rate = 1\n",
    "        \n",
    "    def fit(self, X_train, y_train):\n",
    "        self.w = np.zeros(X_train.shape[1])\n",
    "        i = 0\n",
    "        while i < X_train.shape[0]:\n",
    "            X = X_train[i]\n",
    "            y = y_train[i]\n",
    "            \n",
    "            # condition\n",
    "            if y * (np.dot(self.w, X) + self.b) <= 0:\n",
    "                self.w = self.w + self.l_rate * np.dot(y, X)\n",
    "                self.b = self.b + self.l_rate * y\n",
    "                i = 0\n",
    "            else:\n",
    "                i += 1"
   ]
  },
  {
   "cell_type": "code",
   "execution_count": 6,
   "id": "42eea17f",
   "metadata": {},
   "outputs": [],
   "source": [
    "def draw(X, w, b):\n",
    "    X_new = np.array([[0], [6]])\n",
    "    y_predict = - (b + w[0] * X_new) / w[1]\n",
    "    print(y_predict)\n",
    "    \n",
    "    # 绘制点\n",
    "    plt.plot(X[:2, 0], X[:2, 1], \"g*\", label = 1)\n",
    "    plt.plot(X[2:, 0], X[2:, 1], \"rx\", label = -1)\n",
    "    \n",
    "    # 分类超平面\n",
    "    plt.plot(X_new, y_predict, \"b-\")\n",
    "    \n",
    "    plt.axis([0, 6, 0, 6])\n",
    "    plt.xlabel(\"X1\")\n",
    "    plt.ylabel(\"X2\")\n",
    "    plt.legend()\n",
    "    plt.show()\n",
    "    "
   ]
  },
  {
   "cell_type": "code",
   "execution_count": 8,
   "id": "e6909470",
   "metadata": {},
   "outputs": [
    {
     "name": "stdout",
     "output_type": "stream",
     "text": [
      "weight:  [1. 1.]\n",
      "bias:  -3\n",
      "[[ 3.]\n",
      " [-3.]]\n"
     ]
    },
    {
     "data": {
      "image/png": "[encoded data removed]",
      "text/plain": [
       "<Figure size 432x288 with 1 Axes>"
      ]
     },
     "metadata": {
      "needs_background": "light"
     },
     "output_type": "display_data"
    }
   ],
   "source": [
    "# 构建样本\n",
    "# 正实例 [3, 3] [4, 3]  负实例 [1, 1]\n",
    "X_train = np.array([[3, 3], [4, 3], [1, 1]])\n",
    "y_train = np.array([1, 1, -1])\n",
    "\n",
    "# 构建 perceptron\n",
    "model = MyPerceptron()\n",
    "model.fit(X_train, y_train)\n",
    "print(\"weight: \", model.w)\n",
    "print(\"bias: \", model.b)\n",
    "\n",
    "draw(X_train, model.w, model.b)"
   ]
  },
  {
   "cell_type": "markdown",
   "id": "c68478d0",
   "metadata": {},
   "source": [
    "\n",
    "# 感知机-对偶形式\n",
    "\n",
    "- 输入：线性可分数据$T = {(x_1, y_1), (x_2, y_2), \\cdot, (x_N, y_N)}$\n",
    "- 其中 $x_i \\in R^n, y_i \\in {-1, +1}, i = 1, 2, 3, \\cdot, N$；学习率 $\\eta (0 \\leq \\eta \\leq 1)$\n",
    "- 输出：$a, b$, 感知机模型$f(x) = sign(\\sum_{j=1}^N \\alpha_j y_j x_j \\cdot x + b)$,\n",
    "- 其中$\\alpha = (\\alpha_1, \\alpha_2, \\cdot, \\alpha_N)^T$\n",
    "- (1) $\\alpha \\leftarrow 0, b \\leftarrow 0$\n",
    "- (2) 在训练集上选取数据$(x_i, y_i)$\n",
    "- (3) 如果$y_i(\\sum_{j=1}^N \\alpha_j y_j x_j \\cdot + b) \\leq 0$\n",
    "$$\n",
    "\\alpha_i \\leftarrow \\alpha_i + \\eta \\\\\n",
    "b \\leftarrow b + \\eta y_i\n",
    "$$"
   ]
  },
  {
   "cell_type": "markdown",
   "id": "a403affe",
   "metadata": {},
   "source": [
    "# 例2.2 正实例点$x_1 = (3, 3)^T, x_2 = (4, 3)^T$, 负实例点$x_3 = (1, 1)^T$，试用感知机-对偶学习算法求感知机模型"
   ]
  },
  {
   "cell_type": "code",
   "execution_count": 9,
   "id": "211d0201",
   "metadata": {},
   "outputs": [],
   "source": [
    "# import numpy as np\n",
    "# import matplotlib.pyplot as plt\n",
    "\n",
    "# 对偶性二元分类器\n",
    "class MyPerceptron_duality:\n",
    "    def __init__(self):\n",
    "        self.a = None\n",
    "        self.b = 0\n",
    "        self.l_rate = 1\n",
    "        \n",
    "    def fit(self, X_train, y_train):\n",
    "        \n",
    "        # Gram矩阵\n",
    "        G = np.dot(X_train, X_train.T)\n",
    "        \n",
    "        self.a = np.zeros(X_train.shape[0])\n",
    "        i = 0\n",
    "        while i < X_train.shape[0]:\n",
    "            X = X_train[i]\n",
    "            y = y_train[i]\n",
    "            \n",
    "            # conditon\n",
    "            temp = 0\n",
    "            for j in range(X_train.shape[0]):\n",
    "                tmp = self.a[j] * y_train[j] * G[j, i]\n",
    "                temp += tmp\n",
    "            print(temp.shape, temp)\n",
    "            \n",
    "            if y * (temp + self.b) <= 0:\n",
    "                self.a[i] = self.a[i] + self.l_rate\n",
    "                self.b = self.b + self.l_rate * y\n",
    "                i = 0\n",
    "            else:\n",
    "                i += 1"
   ]
  },
  {
   "cell_type": "code",
   "execution_count": 10,
   "id": "e7d5de92",
   "metadata": {},
   "outputs": [
    {
     "name": "stdout",
     "output_type": "stream",
     "text": [
      "() 0.0\n",
      "() 18.0\n",
      "() 21.0\n",
      "() 6.0\n",
      "() 12.0\n",
      "() 14.0\n",
      "() 4.0\n",
      "() 6.0\n",
      "() 7.0\n",
      "() 2.0\n",
      "() 0.0\n",
      "() 18.0\n",
      "() 21.0\n",
      "() 6.0\n",
      "() 12.0\n",
      "() 14.0\n",
      "() 4.0\n",
      "() 6.0\n",
      "() 7.0\n",
      "() 2.0\n",
      "a:  [2. 0. 5.]\n",
      "b:  -3\n"
     ]
    }
   ],
   "source": [
    "# 构建样本\n",
    "# 正实例 [3, 3] [4, 3]  负实例 [1, 1]\n",
    "X_train = np.array([[3, 3], [4, 3], [1, 1]])\n",
    "y_train = np.array([1, 1, -1])\n",
    "\n",
    "# 构建 perceptron\n",
    "model = MyPerceptron_duality()\n",
    "model.fit(X_train, y_train)\n",
    "print(\"a: \", model.a)\n",
    "print(\"b: \", model.b)\n",
    "\n",
    "# draw(X_train, model.w, model.b)"
   ]
  },
  {
   "cell_type": "code",
   "execution_count": 14,
   "id": "5d246e97",
   "metadata": {},
   "outputs": [
    {
     "data": {
      "image/png": "[encoded data removed]",
      "text/plain": [
       "<Figure size 432x288 with 1 Axes>"
      ]
     },
     "metadata": {
      "needs_background": "light"
     },
     "output_type": "display_data"
    }
   ],
   "source": [
    "def draw_duality(X, a, b):\n",
    "    w = np.dot((a * y_train).T, X)\n",
    "    \n",
    "    X_new = np.array([[0], [6]])\n",
    "    y_predict = - (b + w[0] * X_new) / w[1]\n",
    "    \n",
    "    # 绘制点\n",
    "    plt.plot(X[:2, 0], X[:2, 1], \"g*\", label = 1)\n",
    "    plt.plot(X[2:, 0], X[2:, 1], \"rx\", label = -1)\n",
    "    \n",
    "    # 分类超平面\n",
    "    plt.plot(X_new, y_predict, \"b-\")\n",
    "    \n",
    "    plt.axis([0, 6, 0, 6])\n",
    "    plt.xlabel(\"X1\")\n",
    "    plt.ylabel(\"X2\")\n",
    "    plt.legend()\n",
    "    plt.show()\n",
    "    \n",
    "draw_duality(X_train, model.a, model.b)"
   ]
  },
  {
   "cell_type": "code",
   "execution_count": null,
   "id": "f2cc3493",
   "metadata": {},
   "outputs": [],
   "source": []
  }
 ],
 "metadata": {
  "kernelspec": {
   "display_name": "Python 3 (ipykernel)",
   "language": "python",
   "name": "python3"
  },
  "language_info": {
   "codemirror_mode": {
    "name": "ipython",
    "version": 3
   },
   "file_extension": ".py",
   "mimetype": "text/x-python",
   "name": "python",
   "nbconvert_exporter": "python",
   "pygments_lexer": "ipython3",
   "version": "3.9.6"
  }
 },
 "nbformat": 4,
 "nbformat_minor": 5
}
