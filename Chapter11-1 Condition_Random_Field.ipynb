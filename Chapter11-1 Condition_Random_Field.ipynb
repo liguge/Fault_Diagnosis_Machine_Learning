{
 "cells": [
  {
   "cell_type": "markdown",
   "id": "6865550a",
   "metadata": {},
   "source": [
    "# 条件随机场 CRF"
   ]
  },
  {
   "cell_type": "code",
   "execution_count": 1,
   "id": "042be895",
   "metadata": {},
   "outputs": [],
   "source": [
    "import numpy as np"
   ]
  },
  {
   "cell_type": "code",
   "execution_count": 3,
   "id": "ac441eab",
   "metadata": {},
   "outputs": [
    {
     "name": "stdout",
     "output_type": "stream",
     "text": [
      "24.532530197109345\n",
      "24.532530197109352\n"
     ]
    }
   ],
   "source": [
    "# 例11.1\n",
    "\n",
    "T1 =[[0.6, 1], [1, 0]]\n",
    "T2 = [[0, 1], [1, 0.2]]\n",
    "\n",
    "S0 = [1, 0.5]\n",
    "S1 = [0.8, 0.5]\n",
    "S2 = [0.8, 0.5]\n",
    "Y = [1, 2, 2]\n",
    "Y = np.array(Y) - 1\n",
    "P = np.exp(S0[Y[0]])\n",
    "\n",
    "for i in range(1, len(Y)):\n",
    "    P *= np.exp((eval('S%d' % i)[Y[i]]) + eval('T%d' % i)[Y[i - 1]][Y[i]])\n",
    "print(P)\n",
    "print(np.exp(3.2))"
   ]
  },
  {
   "cell_type": "code",
   "execution_count": 5,
   "id": "080a41cf",
   "metadata": {},
   "outputs": [
    {
     "name": "stdout",
     "output_type": "stream",
     "text": [
      "非规范化概率： 24.532530197109345\n"
     ]
    }
   ],
   "source": [
    "# 例11.2\n",
    "\n",
    "F0 = S0\n",
    "F1 = T1 + np.array(S1 * len(T1)).reshape(np.shape(T1))\n",
    "F2 = T2 + np.array(S2 * len(T2)).reshape(np.shape(T2))\n",
    "\n",
    "Y = [1, 2, 2]\n",
    "Y = np.array(Y) - 1\n",
    "\n",
    "\n",
    "P = np.exp(F0[Y[0]])\n",
    "\n",
    "Sum = P\n",
    "for i in range(1, len(Y)):\n",
    "    PIter = np.exp((eval('F%d' % i)[Y[i-1]][Y[i]]))\n",
    "    P *= PIter\n",
    "    Sum += PIter\n",
    "    \n",
    "print(\"非规范化概率：\", P)"
   ]
  },
  {
   "cell_type": "code",
   "execution_count": null,
   "id": "c95261fa",
   "metadata": {},
   "outputs": [],
   "source": []
  }
 ],
 "metadata": {
  "kernelspec": {
   "display_name": "Python 3 (ipykernel)",
   "language": "python",
   "name": "python3"
  },
  "language_info": {
   "codemirror_mode": {
    "name": "ipython",
    "version": 3
   },
   "file_extension": ".py",
   "mimetype": "text/x-python",
   "name": "python",
   "nbconvert_exporter": "python",
   "pygments_lexer": "ipython3",
   "version": "3.9.6"
  }
 },
 "nbformat": 4,
 "nbformat_minor": 5
}
